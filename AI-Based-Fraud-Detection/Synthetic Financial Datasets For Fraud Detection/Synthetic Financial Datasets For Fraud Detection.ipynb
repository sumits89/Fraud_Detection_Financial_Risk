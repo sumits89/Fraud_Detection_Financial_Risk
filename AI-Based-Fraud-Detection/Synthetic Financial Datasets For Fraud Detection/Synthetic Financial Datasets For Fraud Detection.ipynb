{
 "cells": [
  {
   "cell_type": "code",
   "execution_count": 1,
   "id": "659d0daf",
   "metadata": {},
   "outputs": [],
   "source": [
    "import numpy as np\n",
    "import pandas as pd\n",
    "import seaborn as sns\n",
    "import plotly.express as px\n",
    "from matplotlib import pyplot as plt\n",
    "\n",
    "from sklearn import metrics\n",
    "from collections import Counter\n",
    "from sklearn.preprocessing import StandardScaler\n",
    "from sklearn.model_selection import train_test_split\n",
    "\n",
    "from sklearn.linear_model import LogisticRegression\n",
    "from sklearn.svm import SVC, LinearSVC\n",
    "from sklearn.ensemble import RandomForestClassifier\n",
    "from sklearn.neighbors import KNeighborsClassifier\n",
    "from sklearn.naive_bayes import GaussianNB\n",
    "from sklearn.tree import DecisionTreeClassifier\n",
    "\n",
    "from sklearn.ensemble import AdaBoostClassifier\n",
    "from catboost import CatBoostClassifier\n",
    "from sklearn.ensemble import GradientBoostingClassifier\n",
    "from xgboost import XGBClassifier\n",
    "import lightgbm as lgb\n",
    "\n",
    "import tensorflow as tf\n",
    "from tensorflow import keras\n",
    "from tensorflow.keras import layers\n",
    "from tensorflow.keras.metrics import Precision, Recall, AUC\n",
    "from keras.models import Sequential\n",
    "from tensorflow.keras.models import Model, Sequential\n",
    "from tensorflow.keras.layers import Activation, Input, Dense, LSTM\n",
    "from tensorflow.keras.callbacks import EarlyStopping\n",
    "\n",
    "\n",
    "import os\n",
    "parent_dir = os.path.abspath(os.path.join(os.getcwd(), '..'))\n",
    "\n",
    "import sys\n",
    "sys.path.append(parent_dir)\n",
    "\n",
    "import BalanceDataset as balance\n",
    "import MachineLearningModels as ml_models\n",
    "import DeepLearningModels as dl_models\n",
    "\n",
    "import shap"
   ]
  },
  {
   "cell_type": "markdown",
   "id": "b0502229",
   "metadata": {},
   "source": [
    "## Dataset Description"
   ]
  },
  {
   "cell_type": "markdown",
   "id": "b0b88b8d",
   "metadata": {},
   "source": [
    "- step - maps a unit of time in the real world. In this case 1 step is 1 hour of time. Total steps 744 (30 days simulation).\n",
    "- type - CASH-IN, CASH-OUT, DEBIT, PAYMENT and TRANSFER.\n",
    "- amount - amount of the transaction in local currency.\n",
    "- nameOrig - customer who started the transaction\n",
    "- oldbalanceOrg - initial balance before the transaction\n",
    "- newbalanceOrig - new balance after the transaction\n",
    "- nameDest - customer who is the recipient of the transaction\n",
    "- oldbalanceDest - initial balance recipient before the transaction. Note that there is not information for customers that start with M (Merchants).\n",
    "- newbalanceDest - new balance recipient after the transaction. Note that there is not information for customers that start with M (Merchants).\n",
    "- isFraud - This is the transactions made by the fraudulent agents inside the simulation. In this specific dataset the fraudulent behavior of the agents aims to profit by taking control or customers accounts and try to empty the funds by transferring to another account and then cashing out of the system.\n",
    "- isFlaggedFraud - The business model aims to control massive transfers from one account to another and flags illegal attempts. An illegal attempt in this dataset is an attempt to transfer more than 200.000 in a single transaction."
   ]
  },
  {
   "cell_type": "code",
   "execution_count": 2,
   "id": "6e3958c4",
   "metadata": {},
   "outputs": [],
   "source": [
    "data = pd.read_csv('paysim.csv')\n",
    "df = data.copy()"
   ]
  },
  {
   "cell_type": "code",
   "execution_count": 3,
   "id": "10fe839f",
   "metadata": {},
   "outputs": [
    {
     "data": {
      "text/html": [
       "<div>\n",
       "<style scoped>\n",
       "    .dataframe tbody tr th:only-of-type {\n",
       "        vertical-align: middle;\n",
       "    }\n",
       "\n",
       "    .dataframe tbody tr th {\n",
       "        vertical-align: top;\n",
       "    }\n",
       "\n",
       "    .dataframe thead th {\n",
       "        text-align: right;\n",
       "    }\n",
       "</style>\n",
       "<table border=\"1\" class=\"dataframe\">\n",
       "  <thead>\n",
       "    <tr style=\"text-align: right;\">\n",
       "      <th></th>\n",
       "      <th>step</th>\n",
       "      <th>type</th>\n",
       "      <th>amount</th>\n",
       "      <th>nameOrig</th>\n",
       "      <th>oldbalanceOrg</th>\n",
       "      <th>newbalanceOrig</th>\n",
       "      <th>nameDest</th>\n",
       "      <th>oldbalanceDest</th>\n",
       "      <th>newbalanceDest</th>\n",
       "      <th>isFraud</th>\n",
       "      <th>isFlaggedFraud</th>\n",
       "    </tr>\n",
       "  </thead>\n",
       "  <tbody>\n",
       "    <tr>\n",
       "      <th>0</th>\n",
       "      <td>1</td>\n",
       "      <td>PAYMENT</td>\n",
       "      <td>9839.64</td>\n",
       "      <td>C1231006815</td>\n",
       "      <td>170136.0</td>\n",
       "      <td>160296.36</td>\n",
       "      <td>M1979787155</td>\n",
       "      <td>0.0</td>\n",
       "      <td>0.0</td>\n",
       "      <td>0</td>\n",
       "      <td>0</td>\n",
       "    </tr>\n",
       "    <tr>\n",
       "      <th>1</th>\n",
       "      <td>1</td>\n",
       "      <td>PAYMENT</td>\n",
       "      <td>1864.28</td>\n",
       "      <td>C1666544295</td>\n",
       "      <td>21249.0</td>\n",
       "      <td>19384.72</td>\n",
       "      <td>M2044282225</td>\n",
       "      <td>0.0</td>\n",
       "      <td>0.0</td>\n",
       "      <td>0</td>\n",
       "      <td>0</td>\n",
       "    </tr>\n",
       "    <tr>\n",
       "      <th>2</th>\n",
       "      <td>1</td>\n",
       "      <td>TRANSFER</td>\n",
       "      <td>181.00</td>\n",
       "      <td>C1305486145</td>\n",
       "      <td>181.0</td>\n",
       "      <td>0.00</td>\n",
       "      <td>C553264065</td>\n",
       "      <td>0.0</td>\n",
       "      <td>0.0</td>\n",
       "      <td>1</td>\n",
       "      <td>0</td>\n",
       "    </tr>\n",
       "    <tr>\n",
       "      <th>3</th>\n",
       "      <td>1</td>\n",
       "      <td>CASH_OUT</td>\n",
       "      <td>181.00</td>\n",
       "      <td>C840083671</td>\n",
       "      <td>181.0</td>\n",
       "      <td>0.00</td>\n",
       "      <td>C38997010</td>\n",
       "      <td>21182.0</td>\n",
       "      <td>0.0</td>\n",
       "      <td>1</td>\n",
       "      <td>0</td>\n",
       "    </tr>\n",
       "    <tr>\n",
       "      <th>4</th>\n",
       "      <td>1</td>\n",
       "      <td>PAYMENT</td>\n",
       "      <td>11668.14</td>\n",
       "      <td>C2048537720</td>\n",
       "      <td>41554.0</td>\n",
       "      <td>29885.86</td>\n",
       "      <td>M1230701703</td>\n",
       "      <td>0.0</td>\n",
       "      <td>0.0</td>\n",
       "      <td>0</td>\n",
       "      <td>0</td>\n",
       "    </tr>\n",
       "  </tbody>\n",
       "</table>\n",
       "</div>"
      ],
      "text/plain": [
       "   step      type    amount     nameOrig  oldbalanceOrg  newbalanceOrig  \\\n",
       "0     1   PAYMENT   9839.64  C1231006815       170136.0       160296.36   \n",
       "1     1   PAYMENT   1864.28  C1666544295        21249.0        19384.72   \n",
       "2     1  TRANSFER    181.00  C1305486145          181.0            0.00   \n",
       "3     1  CASH_OUT    181.00   C840083671          181.0            0.00   \n",
       "4     1   PAYMENT  11668.14  C2048537720        41554.0        29885.86   \n",
       "\n",
       "      nameDest  oldbalanceDest  newbalanceDest  isFraud  isFlaggedFraud  \n",
       "0  M1979787155             0.0             0.0        0               0  \n",
       "1  M2044282225             0.0             0.0        0               0  \n",
       "2   C553264065             0.0             0.0        1               0  \n",
       "3    C38997010         21182.0             0.0        1               0  \n",
       "4  M1230701703             0.0             0.0        0               0  "
      ]
     },
     "execution_count": 3,
     "metadata": {},
     "output_type": "execute_result"
    }
   ],
   "source": [
    "df.head()"
   ]
  },
  {
   "cell_type": "code",
   "execution_count": 4,
   "id": "2ab5b2ad",
   "metadata": {},
   "outputs": [
    {
     "data": {
      "text/plain": [
       "(6362620, 11)"
      ]
     },
     "execution_count": 4,
     "metadata": {},
     "output_type": "execute_result"
    }
   ],
   "source": [
    "df.shape"
   ]
  },
  {
   "cell_type": "code",
   "execution_count": 5,
   "id": "af8c5cac",
   "metadata": {
    "scrolled": true
   },
   "outputs": [
    {
     "name": "stdout",
     "output_type": "stream",
     "text": [
      "<class 'pandas.core.frame.DataFrame'>\n",
      "RangeIndex: 6362620 entries, 0 to 6362619\n",
      "Data columns (total 11 columns):\n",
      " #   Column          Dtype  \n",
      "---  ------          -----  \n",
      " 0   step            int64  \n",
      " 1   type            object \n",
      " 2   amount          float64\n",
      " 3   nameOrig        object \n",
      " 4   oldbalanceOrg   float64\n",
      " 5   newbalanceOrig  float64\n",
      " 6   nameDest        object \n",
      " 7   oldbalanceDest  float64\n",
      " 8   newbalanceDest  float64\n",
      " 9   isFraud         int64  \n",
      " 10  isFlaggedFraud  int64  \n",
      "dtypes: float64(5), int64(3), object(3)\n",
      "memory usage: 534.0+ MB\n"
     ]
    }
   ],
   "source": [
    "df.info()"
   ]
  },
  {
   "cell_type": "code",
   "execution_count": 6,
   "id": "d95722a4",
   "metadata": {},
   "outputs": [
    {
     "data": {
      "text/plain": [
       "step              0\n",
       "type              0\n",
       "amount            0\n",
       "nameOrig          0\n",
       "oldbalanceOrg     0\n",
       "newbalanceOrig    0\n",
       "nameDest          0\n",
       "oldbalanceDest    0\n",
       "newbalanceDest    0\n",
       "isFraud           0\n",
       "isFlaggedFraud    0\n",
       "dtype: int64"
      ]
     },
     "execution_count": 6,
     "metadata": {},
     "output_type": "execute_result"
    }
   ],
   "source": [
    "df.isnull().sum()"
   ]
  },
  {
   "cell_type": "code",
   "execution_count": 7,
   "id": "c307590e",
   "metadata": {},
   "outputs": [
    {
     "data": {
      "text/plain": [
       "0"
      ]
     },
     "execution_count": 7,
     "metadata": {},
     "output_type": "execute_result"
    }
   ],
   "source": [
    " df.duplicated().sum()"
   ]
  },
  {
   "cell_type": "code",
   "execution_count": 8,
   "id": "22d95075",
   "metadata": {},
   "outputs": [
    {
     "data": {
      "text/plain": [
       "step                  743\n",
       "type                    5\n",
       "amount            5316900\n",
       "nameOrig          6353307\n",
       "oldbalanceOrg     1845844\n",
       "newbalanceOrig    2682586\n",
       "nameDest          2722362\n",
       "oldbalanceDest    3614697\n",
       "newbalanceDest    3555499\n",
       "isFraud                 2\n",
       "isFlaggedFraud          2\n",
       "dtype: int64"
      ]
     },
     "execution_count": 8,
     "metadata": {},
     "output_type": "execute_result"
    }
   ],
   "source": [
    "df.nunique()"
   ]
  },
  {
   "cell_type": "code",
   "execution_count": 9,
   "id": "ad475b27",
   "metadata": {},
   "outputs": [],
   "source": [
    "#df = df.drop(columns = ['step', 'isFlaggedFraud'], axis = 'columns') #gereksiz sütunları çıkardık"
   ]
  },
  {
   "cell_type": "code",
   "execution_count": 10,
   "id": "7ffefebc",
   "metadata": {},
   "outputs": [
    {
     "data": {
      "text/plain": [
       "array(['PAYMENT', 'TRANSFER', 'CASH_OUT', 'DEBIT', 'CASH_IN'],\n",
       "      dtype=object)"
      ]
     },
     "execution_count": 10,
     "metadata": {},
     "output_type": "execute_result"
    }
   ],
   "source": [
    "df.type.unique()"
   ]
  },
  {
   "cell_type": "code",
   "execution_count": 11,
   "id": "0899fb3d",
   "metadata": {},
   "outputs": [],
   "source": [
    "#fig = px.box(df, y=\"amount\")\n",
    "#fig.show()"
   ]
  },
  {
   "cell_type": "markdown",
   "id": "3393e60d",
   "metadata": {},
   "source": [
    "## EDA"
   ]
  },
  {
   "cell_type": "code",
   "execution_count": 12,
   "id": "870975fb",
   "metadata": {},
   "outputs": [
    {
     "data": {
      "text/plain": [
       "0    6354407\n",
       "1       8213\n",
       "Name: isFraud, dtype: int64"
      ]
     },
     "execution_count": 12,
     "metadata": {},
     "output_type": "execute_result"
    }
   ],
   "source": [
    "df['isFraud'].value_counts()"
   ]
  },
  {
   "cell_type": "code",
   "execution_count": 13,
   "id": "c2e248dd",
   "metadata": {},
   "outputs": [
    {
     "data": {
      "text/plain": [
       "C1305486145    1\n",
       "C202278158     1\n",
       "C12585107      1\n",
       "C946427395     1\n",
       "C1069177491    1\n",
       "              ..\n",
       "C2090764492    1\n",
       "C1794935564    1\n",
       "C318078280     1\n",
       "C939293281     1\n",
       "C1685995037    1\n",
       "Name: nameOrig, Length: 4097, dtype: int64"
      ]
     },
     "execution_count": 13,
     "metadata": {},
     "output_type": "execute_result"
    }
   ],
   "source": [
    "# İşlemlerin yapıldığı kaynağın kontrol edilmesi.\n",
    "transfer_df = df[((df['type']=='TRANSFER') & df['isFraud']==1)] \n",
    "transfer_df['nameOrig'].value_counts()"
   ]
  },
  {
   "cell_type": "code",
   "execution_count": 14,
   "id": "5ba455e4",
   "metadata": {},
   "outputs": [
    {
     "data": {
      "text/plain": [
       "C200064275     2\n",
       "C1399829166    2\n",
       "C1650668671    2\n",
       "C2129197098    2\n",
       "C1013511446    2\n",
       "              ..\n",
       "C1566713324    1\n",
       "C1955464150    1\n",
       "C1104137869    1\n",
       "C377165949     1\n",
       "C873221189     1\n",
       "Name: nameDest, Length: 4091, dtype: int64"
      ]
     },
     "execution_count": 14,
     "metadata": {},
     "output_type": "execute_result"
    }
   ],
   "source": [
    "# İşlemlerin nakde çevrildiği varış noktasının kontrol edilmesi.\n",
    "cash_out_fraud = df[(df['type'] == 'CASH_OUT') & (df['isFraud'] == 1)]\n",
    "cash_out_fraud['nameDest'].value_counts()"
   ]
  },
  {
   "cell_type": "code",
   "execution_count": 15,
   "id": "fff73f02",
   "metadata": {},
   "outputs": [
    {
     "name": "stdout",
     "output_type": "stream",
     "text": [
      "Nakit çekmek için kullanılan alıcı hesabı var mı?\n"
     ]
    },
    {
     "data": {
      "text/plain": [
       "False"
      ]
     },
     "execution_count": 15,
     "metadata": {},
     "output_type": "execute_result"
    }
   ],
   "source": [
    "fraud_trans = df[df['isFraud'] == 1]\n",
    "valid_trans = df[df['isFraud'] == 0]\n",
    "\n",
    "trans_transfer = df[df['type'] == 'TRANSER']\n",
    "trans_cashout = df[df['type'] == 'CASH_OUT']\n",
    "\n",
    "print('Nakit çekmek için kullanılan alıcı hesabı var mı?')\n",
    "trans_transfer.nameDest.isin(trans_cashout.nameOrig).any()"
   ]
  },
  {
   "cell_type": "code",
   "execution_count": 16,
   "id": "b4701ec6",
   "metadata": {},
   "outputs": [
    {
     "data": {
      "image/png": "[encoded data removed]",
      "text/plain": [
       "<Figure size 720x360 with 2 Axes>"
      ]
     },
     "metadata": {
      "needs_background": "light"
     },
     "output_type": "display_data"
    }
   ],
   "source": [
    "plt.figure(figsize=(10,5))\n",
    "sns.heatmap(df.corr(),annot=True);"
   ]
  },
  {
   "cell_type": "code",
   "execution_count": 17,
   "id": "ef2a038b",
   "metadata": {},
   "outputs": [
    {
     "data": {
      "image/png": "[encoded data removed]",
      "text/plain": [
       "<Figure size 432x288 with 1 Axes>"
      ]
     },
     "metadata": {
      "needs_background": "light"
     },
     "output_type": "display_data"
    }
   ],
   "source": [
    "sns.violinplot(x = df['isFraud'],y = df['amount']);"
   ]
  },
  {
   "cell_type": "code",
   "execution_count": 18,
   "id": "1d8ad6a1",
   "metadata": {},
   "outputs": [
    {
     "data": {
      "image/png": "[encoded data removed]",
      "text/plain": [
       "<Figure size 432x288 with 1 Axes>"
      ]
     },
     "metadata": {
      "needs_background": "light"
     },
     "output_type": "display_data"
    }
   ],
   "source": [
    "sns.violinplot(x = df['isFraud'],y = df[df['oldbalanceOrg']<100000].oldbalanceOrg);"
   ]
  },
  {
   "cell_type": "code",
   "execution_count": 19,
   "id": "2b9108b5",
   "metadata": {},
   "outputs": [
    {
     "data": {
      "image/png": "[encoded data removed]",
      "text/plain": [
       "<Figure size 432x288 with 1 Axes>"
      ]
     },
     "metadata": {
      "needs_background": "light"
     },
     "output_type": "display_data"
    }
   ],
   "source": [
    "sns.boxplot(x=df.isFraud,y=df.step);"
   ]
  },
  {
   "cell_type": "code",
   "execution_count": 20,
   "id": "e59b29e2",
   "metadata": {},
   "outputs": [
    {
     "data": {
      "image/png": "[encoded data removed]",
      "text/plain": [
       "<Figure size 720x576 with 1 Axes>"
      ]
     },
     "metadata": {},
     "output_type": "display_data"
    }
   ],
   "source": [
    "plt.figure(figsize=(10,8))\n",
    "plt.pie(df.type.value_counts().values,labels=df.type.value_counts().index,  autopct='%.0f%%')\n",
    "plt.title(\"Transaction Type\")\n",
    "plt.show()"
   ]
  },
  {
   "cell_type": "code",
   "execution_count": null,
   "id": "410ae071",
   "metadata": {},
   "outputs": [],
   "source": [
    "from sklearn.preprocessing import LabelEncoder\n",
    "encoder = {}\n",
    "for i in df.select_dtypes('object').columns:\n",
    "    encoder[i] = LabelEncoder()\n",
    "    df[i] = encoder[i].fit_transform(df[i])"
   ]
  },
  {
   "cell_type": "markdown",
   "id": "a6be1442",
   "metadata": {
    "scrolled": true
   },
   "source": [
    "df=pd.concat([df,pd.get_dummies(df['type'], prefix='type_')],axis=1)\n",
    "df.drop(['type'],axis=1,inplace = True)\n",
    "\n",
    "df.head()"
   ]
  },
  {
   "cell_type": "markdown",
   "id": "f1e8143b",
   "metadata": {},
   "source": [
    "## Sonuçlar\n",
    "\n",
    "* Dolandırıcılık işlemlerimiz TRANSFER ve CASH_OUT işlem tipinde yapılmaktadır.\n",
    "\n",
    "* TRANSFER'deki dolandırıcılık işlemleri 4097 ve CASH_OUT 4116 adet.\n",
    "\n",
    "* Dolandırıcılık işlemleri genellikle Müşteriden Müşteriye yapılmakta.\n",
    "\n",
    "* Alım ve Gönderim için kullanılan işlem hesabı, Dolandırıcılık işlemlerinde Aynı değil."
   ]
  },
  {
   "cell_type": "markdown",
   "id": "3cb52ec0",
   "metadata": {},
   "source": [
    "## Preprocessing"
   ]
  },
  {
   "cell_type": "code",
   "execution_count": null,
   "id": "7d227374",
   "metadata": {},
   "outputs": [],
   "source": [
    "numeric_columns = df.select_dtypes(include=['float64', 'int64']).columns\n",
    "numeric_columns.size"
   ]
  },
  {
   "cell_type": "code",
   "execution_count": null,
   "id": "669de93c",
   "metadata": {},
   "outputs": [],
   "source": [
    "def boxplots_custom(dataset, columns_list, rows, cols, suptitle):\n",
    "    fig, axs = plt.subplots(rows, cols, sharey=True, figsize=(25,16))\n",
    "    fig.suptitle(suptitle,y=1, size=25)\n",
    "    axs = axs.flatten()\n",
    "    for i, data in enumerate(columns_list):\n",
    "        sns.boxplot(data=dataset[data], orient='h', ax=axs[i])\n",
    "        axs[i].set_title(data + ', skewness is: '+str(round(dataset[data].skew(axis = 0, skipna = True),2)))\n",
    "        \n",
    "boxplots_custom(dataset=df, columns_list=numeric_columns, rows=int(numeric_columns.size/3)+1, cols=3, suptitle='Boxplots for each variable')\n",
    "plt.tight_layout()"
   ]
  },
  {
   "cell_type": "markdown",
   "id": "e337a1a4",
   "metadata": {},
   "source": [
    "## Feature Engineering (chi2, ANNOVA)"
   ]
  },
  {
   "cell_type": "markdown",
   "id": "2930c457",
   "metadata": {},
   "source": [
    "### ..."
   ]
  },
  {
   "cell_type": "markdown",
   "id": "c332c2d4",
   "metadata": {},
   "source": [
    "## Model Oluşturma"
   ]
  },
  {
   "cell_type": "code",
   "execution_count": null,
   "id": "27c4b245",
   "metadata": {},
   "outputs": [],
   "source": [
    "#df.drop(columns=['type','nameOrig','nameDest'], inplace=True)\n",
    "df.drop(columns=['nameOrig','nameDest'], inplace=True)"
   ]
  },
  {
   "cell_type": "code",
   "execution_count": null,
   "id": "6bcee4c1",
   "metadata": {},
   "outputs": [],
   "source": [
    "X = df.drop('isFraud', axis=1)\n",
    "y = df['isFraud']"
   ]
  },
  {
   "cell_type": "code",
   "execution_count": null,
   "id": "e2577a7f",
   "metadata": {},
   "outputs": [],
   "source": [
    "#scaler = StandardScaler()\n",
    "#X_scaled = scaler.fit_transform(X)"
   ]
  },
  {
   "cell_type": "code",
   "execution_count": null,
   "id": "657eab1c",
   "metadata": {},
   "outputs": [],
   "source": [
    "from sklearn.preprocessing import MinMaxScaler\n",
    "scaler = MinMaxScaler()\n",
    "X = scaler.fit_transform(X)"
   ]
  },
  {
   "cell_type": "code",
   "execution_count": null,
   "id": "26d9e3d2",
   "metadata": {},
   "outputs": [],
   "source": [
    "#X_train, X_test, y_train, y_test = train_test_split(X_chi2, y, test_size = 0.30, random_state=42)\n",
    "X_train, X_test, y_train, y_test = train_test_split(X, y, test_size = 0.30, random_state=42, stratify=y)"
   ]
  },
  {
   "cell_type": "markdown",
   "id": "5aefe01f",
   "metadata": {},
   "source": [
    "sc = StandardScaler()\n",
    "X_train = sc.fit_transform(X_train)\n",
    "X_test = sc.transform(X_test)"
   ]
  },
  {
   "cell_type": "code",
   "execution_count": null,
   "id": "26afa42a",
   "metadata": {},
   "outputs": [],
   "source": [
    "X_train_ros, y_train_ros = balance.balancedWithRandomOverSampler(X_train,y_train)"
   ]
  },
  {
   "cell_type": "code",
   "execution_count": null,
   "id": "6db602e2",
   "metadata": {},
   "outputs": [],
   "source": [
    "X_train_rus, y_train_rus = balance.balancedWithRandomUnderSampler(X_train,y_train)"
   ]
  },
  {
   "cell_type": "code",
   "execution_count": null,
   "id": "46e8bc3b",
   "metadata": {},
   "outputs": [],
   "source": [
    "X_train_smote, y_train_smote = balance.balanceWithSMOTE(X_train, y_train)"
   ]
  },
  {
   "cell_type": "code",
   "execution_count": null,
   "id": "24beb5c2",
   "metadata": {},
   "outputs": [],
   "source": [
    "X_train_adasyn, y_train_adasyn = balance.balanceWithADASYN(X_train, y_train)"
   ]
  },
  {
   "cell_type": "code",
   "execution_count": null,
   "id": "11c9d720",
   "metadata": {},
   "outputs": [],
   "source": [
    "ml_models_list = [ \n",
    "                  lgb.LGBMClassifier(), \n",
    "                  XGBClassifier(), \n",
    "                  AdaBoostClassifier(),\n",
    "                  GradientBoostingClassifier(),\n",
    "                  CatBoostClassifier()\n",
    "                 ]"
   ]
  },
  {
   "cell_type": "code",
   "execution_count": null,
   "id": "fdab762b",
   "metadata": {},
   "outputs": [],
   "source": [
    "for i in ml_models_list:\n",
    "    ml_models.model_performance(i, X_train, X_test, y_train, y_test, \"baseline\")"
   ]
  },
  {
   "cell_type": "code",
   "execution_count": null,
   "id": "9f822ef9",
   "metadata": {},
   "outputs": [],
   "source": [
    "ml_models.all_performances.sort_values(by=['f1_score','AUC'], ascending=False)"
   ]
  },
  {
   "cell_type": "code",
   "execution_count": null,
   "id": "87cf9dcf",
   "metadata": {},
   "outputs": [],
   "source": [
    "for i in ml_models_list:\n",
    "    ml_models.model_performance(i, X_train_ros, X_test, y_train_ros, y_test, \"RandomOverSampler\")\n",
    "    ml_models.model_performance(i, X_train_rus, X_test, y_train_rus, y_test, \"RandomUnderSampler\")\n",
    "    ml_models.model_performance(i, X_train_smote, X_test, y_train_smote, y_test, \"SMOTE\")\n",
    "    ml_models.model_performance(i, X_train_adasyn, X_test, y_train_adasyn, y_test, \"ADASYN\")"
   ]
  },
  {
   "cell_type": "code",
   "execution_count": null,
   "id": "92d4e4cc",
   "metadata": {},
   "outputs": [],
   "source": [
    "ml_model_performances = ml_models.all_performances.sort_values(by=['f1_score','AUC'], ascending=False)\n",
    "ml_model_performances"
   ]
  },
  {
   "cell_type": "code",
   "execution_count": null,
   "id": "6308ca7d",
   "metadata": {},
   "outputs": [],
   "source": [
    "ml_models.display_all_confusion_matrices(y_test)"
   ]
  },
  {
   "cell_type": "markdown",
   "id": "20d7b094",
   "metadata": {},
   "source": [
    "# DEEP LEARNING"
   ]
  },
  {
   "cell_type": "markdown",
   "id": "69d1d472",
   "metadata": {},
   "source": [
    "## Preprocessing"
   ]
  },
  {
   "cell_type": "code",
   "execution_count": null,
   "id": "7b7058f8",
   "metadata": {},
   "outputs": [],
   "source": [
    "dl_model_performances= pd.DataFrame(columns=[\"model_name\",\"precision\",\"recall\",\"f1_score\",\"AUC\"])"
   ]
  },
  {
   "cell_type": "code",
   "execution_count": null,
   "id": "6590c2f4",
   "metadata": {},
   "outputs": [],
   "source": [
    "scaler = StandardScaler()\n",
    "X_train_scaled = scaler.fit_transform(X_train)\n",
    "X_test_scaled = scaler.transform(X_test)"
   ]
  },
  {
   "cell_type": "code",
   "execution_count": null,
   "id": "36dadec8",
   "metadata": {},
   "outputs": [],
   "source": [
    "parameters={\n",
    "    'X_train_scaled' : X_train_scaled,\n",
    "    'X_test_scaled' : X_test_scaled,\n",
    "    'y_train' : y_train,\n",
    "    'y_test' : y_test\n",
    "}"
   ]
  },
  {
   "cell_type": "code",
   "execution_count": null,
   "id": "40e3cd17",
   "metadata": {},
   "outputs": [],
   "source": [
    "dl_models_list= [\n",
    "            dl_models.ANN_model(**parameters),\n",
    "            dl_models.CNN_model(**parameters),\n",
    "            dl_models.RNN_model(**parameters),\n",
    "            dl_models.LSTM_model(**parameters),\n",
    "            dl_models.autoencoder(**parameters)\n",
    "    \n",
    "]"
   ]
  },
  {
   "cell_type": "code",
   "execution_count": null,
   "id": "ab062230",
   "metadata": {},
   "outputs": [],
   "source": [
    "for i in range(len(dl_models)):\n",
    "    dl_model_performances.loc[len(dl_model_performances.index)] = dl_models[i]"
   ]
  },
  {
   "cell_type": "code",
   "execution_count": null,
   "id": "81125454",
   "metadata": {},
   "outputs": [],
   "source": [
    "dl_model_performances.sort_values(by=['f1_score','AUC'], \n",
    "                                  ascending=False).reset_index(drop=True)"
   ]
  },
  {
   "cell_type": "code",
   "execution_count": null,
   "id": "cc76580f",
   "metadata": {},
   "outputs": [],
   "source": [
    "final_result = pd.concat([ml_model_performances, dl_model_performances])"
   ]
  },
  {
   "cell_type": "code",
   "execution_count": null,
   "id": "26ca8201",
   "metadata": {},
   "outputs": [],
   "source": [
    "final_result.sort_values(by=['f1_score','AUC'], \n",
    "                                  ascending=False).reset_index(drop=True)"
   ]
  },
  {
   "cell_type": "code",
   "execution_count": null,
   "id": "d9997028",
   "metadata": {},
   "outputs": [],
   "source": [
    "ml_models.all_performances.sort_values(by=['f1_score','AUC'], \n",
    "                                  ascending=False).reset_index(drop=True)[:5]"
   ]
  },
  {
   "cell_type": "code",
   "execution_count": null,
   "id": "39ef33cd",
   "metadata": {},
   "outputs": [],
   "source": [
    "dl_model_performances"
   ]
  },
  {
   "cell_type": "code",
   "execution_count": null,
   "id": "6a13ee68",
   "metadata": {},
   "outputs": [],
   "source": [
    "import pandas as pd\n",
    "import numpy as np\n",
    "from sklearn.model_selection import train_test_split\n",
    "from sklearn.preprocessing import StandardScaler\n",
    "from keras.models import Sequential\n",
    "from keras.layers import Dense\n",
    "\n",
    "# Create the Autoencoder model\n",
    "model = Sequential()\n",
    "model.add(Dense(64, activation='relu', input_shape=(X_train.shape[1],)))\n",
    "model.add(Dense(X_train.shape[1], activation='sigmoid'))\n",
    "\n",
    "# Compile the model\n",
    "model.compile(optimizer='adam', loss='binary_crossentropy')\n",
    "\n",
    "# Train the model\n",
    "model.fit(X_train, X_train, epochs=10, batch_size=64, validation_data=(X_test, X_test))\n",
    "\n",
    "# Use the trained Autoencoder for anomaly detection\n",
    "reconstructed_data = model.predict(X_test)\n",
    "mse = np.mean(np.power(X_test - reconstructed_data, 2), axis=1)\n",
    "threshold = np.mean(mse) + np.std(mse)  # Define a threshold for anomaly detection\n",
    "\n",
    "# Classify instances as fraudulent or non-fraudulent based on the threshold\n",
    "y_pred = [1 if error > threshold else 0 for error in mse]\n",
    "\n",
    "# Evaluate the model\n",
    "accuracy = np.mean(np.equal(y_test, y_pred))\n",
    "print(\"Accuracy:\", accuracy)\n"
   ]
  },
  {
   "cell_type": "code",
   "execution_count": null,
   "id": "ac1b2930",
   "metadata": {},
   "outputs": [],
   "source": []
  },
  {
   "cell_type": "code",
   "execution_count": null,
   "id": "3c51932d",
   "metadata": {},
   "outputs": [],
   "source": []
  },
  {
   "cell_type": "code",
   "execution_count": null,
   "id": "bd3d5a3e",
   "metadata": {},
   "outputs": [],
   "source": []
  },
  {
   "cell_type": "code",
   "execution_count": null,
   "id": "cd96ca23",
   "metadata": {},
   "outputs": [],
   "source": [
    "from sklearn.model_selection import StratifiedKFold\n",
    "\n",
    "kf = StratifiedKFold(n_splits=5, shuffle=False)"
   ]
  },
  {
   "cell_type": "code",
   "execution_count": null,
   "id": "787a5848",
   "metadata": {},
   "outputs": [],
   "source": [
    "#sklearn.metrics.get_scorer_names()"
   ]
  },
  {
   "cell_type": "code",
   "execution_count": null,
   "id": "4474314d",
   "metadata": {},
   "outputs": [],
   "source": [
    "from sklearn.model_selection import GridSearchCV\n",
    "\n",
    "params = {\n",
    "    'n_estimators': [400,500,600],\n",
    "    'max_depth': [5, 6, 7, 8],\n",
    "    'random_state': [12, 13, 14]\n",
    "}\n",
    "\n",
    "for i in ml_models_list:\n",
    "    grid_rf = GridSearchCV(i, param_grid=params,\n",
    "                       cv=kf, scoring='f1').fit(X_train, y_train)\n",
    "    print(i, ' Best parameters:', grid_rf.best_params_)\n",
    "    print(i, ' Best score:', grid_rf.best_score_)"
   ]
  },
  {
   "cell_type": "code",
   "execution_count": null,
   "id": "049b241d",
   "metadata": {},
   "outputs": [],
   "source": [
    "y_pred = grid_rf.predict(X_test)"
   ]
  },
  {
   "cell_type": "markdown",
   "id": "f6b21b43",
   "metadata": {},
   "source": [
    "params = {\n",
    "    'n_estimators': 100,\n",
    "    'n_jobs': 3\n",
    "}\n",
    "\n",
    "ml_models = [ lgb.LGBMClassifier(**params)] \n",
    "             #, XGBClassifier(**params)\n",
    "             #, AdaBoostClassifier()\n",
    "             #,GradientBoostingClassifier(),CatBoostClassifier()]"
   ]
  },
  {
   "cell_type": "code",
   "execution_count": null,
   "id": "93d30315",
   "metadata": {},
   "outputs": [],
   "source": [
    "params = {\n",
    "    'max_depth': 6, \n",
    "    'n_estimators': 200, \n",
    "    'random_state': 13\n",
    "}\n",
    "\n",
    "ml_models = [ lgb.LGBMClassifier(**params)] \n",
    "             #, XGBClassifier(**params)\n",
    "             #, AdaBoostClassifier()\n",
    "             #,GradientBoostingClassifier(),CatBoostClassifier()]"
   ]
  },
  {
   "cell_type": "code",
   "execution_count": null,
   "id": "19d05b68",
   "metadata": {},
   "outputs": [],
   "source": [
    "for i in ml_models:\n",
    "    mtap.model_performance(i, X_train, X_test, y_train, y_test, \"baseline_ht\")"
   ]
  },
  {
   "cell_type": "code",
   "execution_count": null,
   "id": "20bd57e1",
   "metadata": {},
   "outputs": [],
   "source": [
    "mtap.all_performances.sort_values(by=['f1_score'], ascending=False)"
   ]
  },
  {
   "cell_type": "code",
   "execution_count": null,
   "id": "cfb34e75",
   "metadata": {},
   "outputs": [],
   "source": []
  },
  {
   "cell_type": "code",
   "execution_count": null,
   "id": "825a5bd6",
   "metadata": {},
   "outputs": [],
   "source": []
  },
  {
   "cell_type": "code",
   "execution_count": null,
   "id": "b3398ef8",
   "metadata": {},
   "outputs": [],
   "source": []
  },
  {
   "cell_type": "code",
   "execution_count": null,
   "id": "75fab8a7",
   "metadata": {},
   "outputs": [],
   "source": []
  },
  {
   "cell_type": "code",
   "execution_count": null,
   "id": "2f0fd5a2",
   "metadata": {},
   "outputs": [],
   "source": []
  },
  {
   "cell_type": "code",
   "execution_count": null,
   "id": "c1b5fac3",
   "metadata": {},
   "outputs": [],
   "source": []
  },
  {
   "cell_type": "code",
   "execution_count": null,
   "id": "fe681b04",
   "metadata": {},
   "outputs": [],
   "source": []
  },
  {
   "cell_type": "code",
   "execution_count": null,
   "id": "754fed1c",
   "metadata": {},
   "outputs": [],
   "source": []
  },
  {
   "cell_type": "code",
   "execution_count": null,
   "id": "0d2568da",
   "metadata": {},
   "outputs": [],
   "source": []
  },
  {
   "cell_type": "code",
   "execution_count": null,
   "id": "7c2d3e82",
   "metadata": {},
   "outputs": [],
   "source": []
  },
  {
   "cell_type": "code",
   "execution_count": null,
   "id": "e98a0901",
   "metadata": {},
   "outputs": [],
   "source": []
  },
  {
   "cell_type": "code",
   "execution_count": null,
   "id": "721b8b9a",
   "metadata": {},
   "outputs": [],
   "source": []
  },
  {
   "cell_type": "code",
   "execution_count": null,
   "id": "b2faa009",
   "metadata": {},
   "outputs": [],
   "source": []
  },
  {
   "cell_type": "code",
   "execution_count": null,
   "id": "daaf1773",
   "metadata": {},
   "outputs": [],
   "source": []
  }
 ],
 "metadata": {
  "kernelspec": {
   "display_name": "Python 3 (ipykernel)",
   "language": "python",
   "name": "python3"
  },
  "language_info": {
   "codemirror_mode": {
    "name": "ipython",
    "version": 3
   },
   "file_extension": ".py",
   "mimetype": "text/x-python",
   "name": "python",
   "nbconvert_exporter": "python",
   "pygments_lexer": "ipython3",
   "version": "3.8.5"
  }
 },
 "nbformat": 4,
 "nbformat_minor": 5
}
